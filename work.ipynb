{
 "cells": [
  {
   "cell_type": "code",
   "execution_count": 1,
   "id": "5348ec2a-66df-40df-8b91-4d425af6313f",
   "metadata": {},
   "outputs": [],
   "source": [
    "import numpy as np\n",
    "import pandas as pd\n",
    "import os\n",
    "from PIL import Image\n",
    "import tqdm\n",
    "from global_kmeans_pp import global_clustering\n",
    "from sklearn.decomposition import FastICA\n",
    "from scipy.spatial import distance\n",
    "from time import time\n",
    "from seaborn import heatmap, color_palette\n",
    "import warnings\n",
    "import pickle"
   ]
  },
  {
   "cell_type": "code",
   "execution_count": 2,
   "id": "7ce35d55-afa5-4cd7-accc-926084801c3c",
   "metadata": {},
   "outputs": [],
   "source": [
    "features = []"
   ]
  },
  {
   "cell_type": "code",
   "execution_count": 3,
   "id": "210d11fe-313d-41fe-9ee5-d4eec30b1956",
   "metadata": {},
   "outputs": [],
   "source": [
    "def preprocessing():\n",
    "    def npy_to_array(file_name):\n",
    "        with open(f\"morphnpys/{file_name}\", 'rb') as f:\n",
    "            features.append(file_name.rstrip(\".npy\"))\n",
    "            return np.load(f)\n",
    "\n",
    "    lst_dr = os.listdir(\"morphnpys\")\n",
    "    lst_dr = sorted(lst_dr, key=lambda x: (int(x.split(\",\")[0].lstrip(\"Том \")),\n",
    "                                           float(x.split(\"карта \")[1].split(\",\")[0]),\n",
    "                                           float(x.split(\"ареал \")[1].rstrip(\".npy\"))\n",
    "                                          )\n",
    "                   )\n",
    "    \n",
    "    stck = np.stack(tuple(map(npy_to_array, lst_dr)), axis=2)\n",
    "    \n",
    "    total_area = np.array(Image.open('area.png'))\n",
    "    zero_indices = np.where(total_area == 0)\n",
    "\n",
    "    zeros = np.zeros(stck.shape[2])\n",
    "    stck[zero_indices] = zeros\n",
    "    \n",
    "    stck = stck.reshape(stck.shape[0] * stck.shape[1], -1)\n",
    "\n",
    "    positions = np.where(~np.all(stck == zeros, axis=1))[0]\n",
    "\n",
    "    X = stck[positions]\n",
    "    \n",
    "    return stck, positions, X"
   ]
  },
  {
   "cell_type": "code",
   "execution_count": 4,
   "id": "82ccd68a-5625-48c7-9e18-787466ea5f9f",
   "metadata": {},
   "outputs": [],
   "source": [
    "stck, positions, X = preprocessing()"
   ]
  },
  {
   "cell_type": "code",
   "execution_count": 5,
   "id": "9a63ce6c-c1e6-4c5b-bb45-514758ee6eef",
   "metadata": {},
   "outputs": [],
   "source": [
    "X = X.astype(\"int\")"
   ]
  },
  {
   "cell_type": "markdown",
   "id": "1899a5cb-56e5-4eb9-88cb-1fe6ba433495",
   "metadata": {},
   "source": [
    "Градиент"
   ]
  },
  {
   "cell_type": "code",
   "execution_count": 6,
   "id": "9de53045-9ab4-4e9c-be6e-20f03dad7177",
   "metadata": {},
   "outputs": [],
   "source": [
    "ica = FastICA(n_components=3)\n",
    "ica.fit(X)\n",
    "data = ica.transform(X)"
   ]
  },
  {
   "cell_type": "code",
   "execution_count": 7,
   "id": "0c32fcfe-1e6c-4307-82a9-d58316a6dcd7",
   "metadata": {},
   "outputs": [],
   "source": [
    "scaled_data = (data - data.min(axis=0)) / (data.max(axis=0) - data.min(axis=0)) * 255\n",
    "rgb = scaled_data.astype(\"int\")"
   ]
  },
  {
   "cell_type": "code",
   "execution_count": 8,
   "id": "046f77b1-f639-4276-9aa8-68018b8009a9",
   "metadata": {},
   "outputs": [],
   "source": [
    "rgb = np.hstack((rgb, np.full((X.shape[0], 1), 255)))"
   ]
  },
  {
   "cell_type": "code",
   "execution_count": 9,
   "id": "353da905-15f0-40b7-96de-0791c93aec28",
   "metadata": {
    "scrolled": true
   },
   "outputs": [],
   "source": [
    "new_image = np.zeros((stck.shape[0], 4))\n",
    "new_image[positions] = rgb\n",
    "res = new_image.reshape((984, 969, 4))\n",
    "res = Image.fromarray(res.astype(np.uint8))\n",
    "res.save(\"gradient.png\")"
   ]
  },
  {
   "cell_type": "markdown",
   "id": "c7cd96e7-f29e-4901-8016-1466e4e567a8",
   "metadata": {},
   "source": [
    "Кластеризация"
   ]
  },
  {
   "cell_type": "code",
   "execution_count": 10,
   "id": "d07cc1ef-2f9e-4dc0-94d7-186435f745ad",
   "metadata": {},
   "outputs": [],
   "source": [
    "n_clusters = 20"
   ]
  },
  {
   "cell_type": "code",
   "execution_count": 11,
   "id": "2ceca74a-b3b8-402f-a285-7c7f91a1c420",
   "metadata": {
    "scrolled": true
   },
   "outputs": [
    {
     "name": "stdout",
     "output_type": "stream",
     "text": [
      "Solving 2-means\n",
      "Solving 3-means\n",
      "Solving 4-means\n",
      "Solving 5-means\n",
      "Solving 6-means\n",
      "Solving 7-means\n",
      "Solving 8-means\n",
      "Solving 9-means\n",
      "Solving 10-means\n",
      "Solving 11-means\n",
      "Solving 12-means\n",
      "Solving 13-means\n",
      "Solving 14-means\n",
      "Solving 15-means\n",
      "Solving 16-means\n",
      "Solving 17-means\n",
      "Solving 18-means\n",
      "Solving 19-means\n",
      "Solving 20-means\n",
      "2498.674989938736\n"
     ]
    }
   ],
   "source": [
    "s = time()\n",
    "model = global_clustering.GlobalKMeansPP(n_clusters=n_clusters, verbose=2)\n",
    "model.fit(X)\n",
    "print(time() - s)"
   ]
  },
  {
   "cell_type": "code",
   "execution_count": 12,
   "id": "e6209caf-dc62-41dd-824b-60a1b4a5fa88",
   "metadata": {},
   "outputs": [],
   "source": [
    "clusters = model.labels_\n",
    "cluster_centers = model.cluster_centers_\n",
    "inertia = model.inertia_"
   ]
  },
  {
   "cell_type": "code",
   "execution_count": 13,
   "id": "59765975-3c46-4529-bf9e-19d0d54bbde7",
   "metadata": {},
   "outputs": [],
   "source": [
    "with open('clusters.pkl', 'wb') as f:\n",
    "    pickle.dump(clusters, f)\n",
    "\n",
    "with open('cluster_centers.pkl', 'wb') as f:\n",
    "    pickle.dump(cluster_centers, f)\n",
    "\n",
    "with open('inertia.pkl', 'wb') as f:\n",
    "    pickle.dump(inertia, f)"
   ]
  },
  {
   "cell_type": "code",
   "execution_count": 14,
   "id": "d94875a6-1327-43b0-b66f-be0cd3cb95cd",
   "metadata": {},
   "outputs": [],
   "source": [
    "with open('clusters.pkl', 'rb') as f:\n",
    "    clusters = pickle.load(f)\n",
    "\n",
    "with open('cluster_centers.pkl', 'rb') as f:\n",
    "    cluster_centers = pickle.load(f)\n",
    "\n",
    "with open('inertia.pkl', 'rb') as f:\n",
    "    inertia = pickle.load(f)"
   ]
  },
  {
   "cell_type": "code",
   "execution_count": 15,
   "id": "37cef3ee-830e-4474-8ea5-df091b237990",
   "metadata": {},
   "outputs": [],
   "source": [
    "warnings.simplefilter(\"ignore\", UserWarning)"
   ]
  },
  {
   "cell_type": "code",
   "execution_count": 16,
   "id": "33b9fbaa-6a62-4863-8eff-4f060aa144cd",
   "metadata": {},
   "outputs": [],
   "source": [
    "all_cluster_centers = np.concatenate(list(cluster_centers.values()))"
   ]
  },
  {
   "cell_type": "code",
   "execution_count": 17,
   "id": "8b8c678e-9561-46a1-87b5-aca76241fb9c",
   "metadata": {},
   "outputs": [
    {
     "data": {
      "text/plain": [
       "(210, 158)"
      ]
     },
     "execution_count": 17,
     "metadata": {},
     "output_type": "execute_result"
    }
   ],
   "source": [
    "all_cluster_centers.shape"
   ]
  },
  {
   "cell_type": "code",
   "execution_count": 18,
   "id": "c04361e6-2f68-4d84-bed7-be936d241edd",
   "metadata": {},
   "outputs": [],
   "source": [
    "data = ica.transform(all_cluster_centers)"
   ]
  },
  {
   "cell_type": "code",
   "execution_count": 19,
   "id": "c4e15beb-4693-4ae0-b519-a785fb910269",
   "metadata": {},
   "outputs": [],
   "source": [
    "scaled_data = (data - data.min(axis=0)) / (data.max(axis=0) - data.min(axis=0)) * 255\n",
    "rgb = scaled_data.astype(\"int\")"
   ]
  },
  {
   "cell_type": "code",
   "execution_count": 20,
   "id": "9f04eae5-8fff-4f3c-b898-4129005def1a",
   "metadata": {},
   "outputs": [],
   "source": [
    "rgb = np.hstack((rgb, np.full((all_cluster_centers.shape[0], 1), 255)))"
   ]
  },
  {
   "cell_type": "code",
   "execution_count": 21,
   "id": "adce190d-bc23-475a-8136-e42af03df0ae",
   "metadata": {},
   "outputs": [
    {
     "name": "stderr",
     "output_type": "stream",
     "text": [
      "100%|██████████████████████████████████████████████████████████████████████████████████| 20/20 [01:01<00:00,  3.05s/it]\n"
     ]
    }
   ],
   "source": [
    "for i in tqdm.tqdm(range(1, n_clusters + 1)):\n",
    "    nth_clusters = clusters[i]\n",
    "    nth_rgb = rgb[sum(range(i)):sum(range(i + 1))]\n",
    "\n",
    "    nth_clusters_rgb = [nth_rgb[i] for i in nth_clusters]\n",
    "\n",
    "    new_image = np.zeros((stck.shape[0], 4))\n",
    "    new_image[positions] = nth_clusters_rgb\n",
    "    res = new_image.reshape((984, 969, 4))\n",
    "    res = Image.fromarray(res.astype(np.uint8))\n",
    "    res.save(f\"{i}_clusters.png\")"
   ]
  },
  {
   "cell_type": "markdown",
   "id": "192aa737-63b7-43db-aa54-86e354f51dee",
   "metadata": {},
   "source": [
    "Близость кластеров"
   ]
  },
  {
   "cell_type": "code",
   "execution_count": 22,
   "id": "cd41af0d-1a45-4191-bf9c-1e9427ac4f77",
   "metadata": {},
   "outputs": [],
   "source": [
    "nth_clusters = clusters[n_clusters]\n",
    "nth_cluster_centers = cluster_centers[n_clusters]"
   ]
  },
  {
   "cell_type": "code",
   "execution_count": 23,
   "id": "2371fa00-17fe-48fc-9f5b-5b734be44dd0",
   "metadata": {},
   "outputs": [
    {
     "name": "stderr",
     "output_type": "stream",
     "text": [
      "100%|██████████████████████████████████████████████████████████████████████████████████| 20/20 [00:39<00:00,  1.96s/it]\n"
     ]
    }
   ],
   "source": [
    "for i in tqdm.tqdm(range(n_clusters)):\n",
    "    distances = np.apply_along_axis(lambda x: distance.euclidean(nth_cluster_centers[i], x), 1, nth_cluster_centers)\n",
    "    norm_distances = (distances - distances.min()) / (distances.max() - distances.min())\n",
    "    cmap = color_palette(\"inferno_r\", as_cmap=True)\n",
    "    heat_rgb = cmap(norm_distances) * 255\n",
    "    \n",
    "    heat_clusters_rgb = [heat_rgb[i] for i in nth_clusters]\n",
    "\n",
    "    new_image = np.zeros((stck.shape[0], 4))\n",
    "    new_image[positions] = heat_clusters_rgb\n",
    "    res = new_image.reshape((984, 969, 4))\n",
    "    res = Image.fromarray(res.astype(np.uint8))\n",
    "    res.save(f\"proximity_to_{i}_out_of_{n_clusters}.png\")"
   ]
  },
  {
   "cell_type": "markdown",
   "id": "eef368c8-4674-4842-8520-bc4a2dba2ff3",
   "metadata": {},
   "source": [
    "Близость к прототипам"
   ]
  },
  {
   "cell_type": "code",
   "execution_count": 24,
   "id": "3df3371a-9009-4bd8-9237-d5c45e7fb911",
   "metadata": {},
   "outputs": [],
   "source": [
    "distances = np.array(list(map(lambda x: distance.euclidean(X[x], nth_cluster_centers[nth_clusters[x]]), range(X.shape[0]))))\n",
    "norm_distances = (distances - distances.min()) / (distances.max() - distances.min())\n",
    "cmap = color_palette(\"inferno_r\", as_cmap=True)\n",
    "heat_rgb = cmap(norm_distances) * 255"
   ]
  },
  {
   "cell_type": "code",
   "execution_count": 25,
   "id": "e2ab518a-f309-40e1-aedb-96f120ed56c4",
   "metadata": {},
   "outputs": [],
   "source": [
    "new_image = np.zeros((stck.shape[0], 4))\n",
    "new_image[positions] = heat_rgb\n",
    "res = new_image.reshape((984, 969, 4))\n",
    "res = Image.fromarray(res.astype(np.uint8))\n",
    "res.save(\"proximity_to_centres_of_clusters.png\")"
   ]
  },
  {
   "cell_type": "markdown",
   "id": "3878665d-34b4-432f-bf78-2b299a535dc7",
   "metadata": {},
   "source": [
    "Границы кластеров"
   ]
  },
  {
   "cell_type": "code",
   "execution_count": 26,
   "id": "61e212bf-35ae-43c5-843e-fcce0b1fcfdb",
   "metadata": {},
   "outputs": [],
   "source": [
    "arr = np.zeros((stck.shape[0]))\n",
    "arr[positions] = nth_clusters + 1\n",
    "arr = arr.reshape((984, 969))"
   ]
  },
  {
   "cell_type": "code",
   "execution_count": 27,
   "id": "20d8044a-6969-4218-a3b4-d7f10866c34d",
   "metadata": {},
   "outputs": [],
   "source": [
    "bool_arr = (((np.roll(arr, shift=(1, 0), axis=(1, 1)) == arr) | np.logical_not(np.roll(arr, shift=(1, 0), axis=(1, 1)))) \\\n",
    "           & ((np.roll(arr, shift=(-1, 0), axis=(1, 1)) == arr) | np.logical_not(np.roll(arr, shift=(-1, 0), axis=(1, 1)))) \\\n",
    "           & ((np.roll(arr, shift=(1, 0), axis=(0, 1)) == arr) | np.logical_not(np.roll(arr, shift=(1, 0), axis=(0, 1)))) \\\n",
    "           & ((np.roll(arr, shift=(-1, 0), axis=(0, 1)) == arr) | np.logical_not(np.roll(arr, shift=(-1, 0), axis=(0, 1))))) \\\n",
    "           | np.logical_not(arr)\n",
    "\n",
    "bool_arr = ~bool_arr"
   ]
  },
  {
   "cell_type": "code",
   "execution_count": 28,
   "id": "4b380d0f-59f8-4d55-9f10-bbd3ec58fa1d",
   "metadata": {},
   "outputs": [],
   "source": [
    "res = np.zeros(bool_arr.shape + (4,))\n",
    "res[bool_arr] = np.array([255] * 4)\n",
    "\n",
    "res = Image.fromarray(res.astype(np.uint8))\n",
    "res.save(\"borders.png\")"
   ]
  },
  {
   "cell_type": "markdown",
   "id": "30f79bde-e06b-4408-b605-472fe32a469b",
   "metadata": {},
   "source": [
    "Важные признаки для кластеров"
   ]
  },
  {
   "cell_type": "code",
   "execution_count": 35,
   "id": "5534af11-ac82-40d0-b661-8a27d04bddf5",
   "metadata": {},
   "outputs": [],
   "source": [
    "with open(\"morph_areals_data.txt\", \"r\", encoding=\"UTF-8\") as file:\n",
    "    areals_data = [_.strip(\"\\n\") for _ in file.readlines()]"
   ]
  },
  {
   "cell_type": "code",
   "execution_count": 38,
   "id": "a1a8807a-aa1e-4371-a92b-4408a5eae0e4",
   "metadata": {
    "scrolled": true
   },
   "outputs": [
    {
     "name": "stdout",
     "output_type": "stream",
     "text": [
      "24734\n",
      "Том 4, карта 6.6, ареал 3 — зона диссимилятивного аканья на русской территории (см. [ДАРЯ, 1,  карта № 2]).0.5956471935853379\n",
      "Том 3, карта 12, ареал 7формы вин.-им. п. отмечены в единичных пунктах (не картографировано): рус. кони поить, коровы доить0.5051040788247304\n",
      "Том 2, карта 5, ареал 5<Р’> = <1, 2, 3 л. ед., 1, 2, 3 л. мн.>, например, рус. диал. л'уб'у́ ~ л'у́б'иш..., л'у́б'ат'0.40477944185285214\n",
      "Том 1, карта 5, ареал 7[к, г, ɣ, h] ~ [к’, к., г’, ɣ’, h’...] = <1 л. ед., 3 л. мн.> ~ <2, 3 л. ед., 1, 2 л. мн.>0.39405779270441926\n",
      "Том 2, карта 8.1, ареал 12Р. предложный, М., женѣ, коровѣ, Р. беспредложный, Д. жены, коровы (рус.)0.3188748188748189\n",
      "\n",
      "21904\n",
      "Том 3, карта 4.1, ареал 3Переходное смягчение заднеязычных согласных перед окончанием счетной формы существительных а-склонения и о-склонения среднего рода, восходящим к окончанию nom.-acc. dualis: отмечено у существительных о-склонения среднего рода (укр. дв'í jáблуц'i, бел. д'з'в'é в'éц'e),0.36011944260119444\n",
      "Том 3, карта 4.1, ареал 5Переходное смягчение заднеязычных согласных перед окончанием счетной формы существительных а-склонения и о-склонения среднего рода, восходящим к окончанию nom.-acc. dualis: только перед ударенными окончаниями счетной формы существительных а-склонения (укр. дв'í руц'í, дв'í д'iвк(')и, полесск., бел. дв'ié руц'ié, дв'ié д'iéвк'i, бел. д'з'в'é руцэ́, д'з'в'é д'з'éўк'i).0.3472161781645975\n",
      "Том 3, карта 7.2, ареал 8цей0.3414930021183756\n",
      "Том 3, карта 5.1, ареал 2*-ě  в твердой разновидности а-склонения с ударенными окончаниями, *-i в том же классе слов с безударными окончаниями (укр. дв'í руц'í, дв'í д'iвки, поллеск. дв'ié руц'ié, дв'ié д'iéвк'i, бел. д'з'в'é руцэ́, д'з'в'é д'з'éўк'i);0.33091731145707093\n",
      "Том 3, карта 5.1, ареал 3*-ě  в твердой разновидности о-склонения среднего рода с ударенными окончаниями (укр. дв'í в'iдрí, поллеск. дв'ié ведр'ié, бел. дз'в'é  в'адр'é);0.3300794442121514\n",
      "\n",
      "26721\n",
      "Том 3, карта 3.1, ареал 4Нестяженные окончания без [j] (зона преимущественного распространения):   -[аа], -[yy] -[оо], -[ое], -[оа], -[ые], -[ие] и др.    (рус. молод[а́a] и т.п., но́в[аа] и т.п., молод[у́у] и т.п., но́в[уу] и т.п., молод[о́e], молод[о́o] или молод[о́a] и т.п., кра́сн[ое], кра́сн[оо] или кра́сн[оа] и т.п., молод[ы́е], глу[х'и́е] и т.п., но́в[ые], си́[н'ие] и т.п.).0.2892337721073052\n",
      "Том 1, карта 8, ареал 4-м0.252675538955642\n",
      "Том 3, карта 6, ареал 2ударная субстантивная флексия <ам>; безударная субстантивная флексия <ам>; адъективная флексия <ам>0.22050645977623867\n",
      "Том 3, карта 3.1, ареал 3Граница разреженного распространения стяженных окончаний.0.20569224671483888\n",
      "Том 1, карта 5, ареал 1<К ~ Č> = <1 л. ед., 3 л. мн.> ~ <2, 3 л. ед., 1, 2 л. мн.> (например: пеку́, пеку́т ~ печ'о́ш...)0.19993973569798976\n",
      "\n",
      "12409\n",
      "Том 3, карта 7.1, ареал 4[ɣэ́]ный, ([ɣэ́]ндой ДАБМ - 121)0.6169923071686296\n",
      "Том 3, карта 10, ареал 3/ст’и/ – клáс’т’и, с’éс’т’и0.43554383537956076\n",
      "Том 3, карта 7.2, ареал 4ге́той0.4029021079988449\n",
      "Том 2, карта 8.1, ареал 16Р., Д., М. земли (рус. земли, укр. галицк. земли, бел. зямлi)0.1703360552763819\n",
      "Том 3, карта 6, ареал 7ударная субстантивная флексия <áма>; безударная субстантивная флексия <ама>; адъективная флексия <ими>0.16610169491525423\n",
      "\n",
      "14203\n",
      "Том 3, карта 5.1, ареал 10Отмечены рефлексы окончания *-ě счетной формы у существительных а-склонения с основами, оканчивающимися на заднеязычные и/или мягкие согласные, а также на твердые согласные и ударением на основе (д'в'é рук'é, д'в'é c'амjé, д'в'é бáб'е).0.596045197740113\n",
      "Том 3, карта 4.1, ареал 8В говорах с различением твердой и мягкой разновидностей склонения основы на заднеязычные согласные присоединяют: окончания мягкой разновидности склонения: -е или -е наряду с -и (в Р., Д., М. ед. числа, счетной форме);0.30798776121346266\n",
      "Том 2, карта 8.1, ареал 9Р. женѣ, коровѣ, Д., М. жены, коровы (рус.)0.2647677937113538\n",
      "Том 2, карта 8.1, ареал 7Р., Д., М. (ударное окончание) жены, Р., Д., М. (безударное окончание) коровѣ (рус.)0.2443664573328408\n",
      "Том 3, карта 5.1, ареал 8Окончание -е счетной формы у существительных а-склонения с основой на твердый согласный и ударенными окончаниями - независимо от его происхождения (д'в'é  жен'é, д'в'é  рук'é).0.24125344352617079\n",
      "\n",
      "34637\n",
      "Том 1, карта 8, ареал 6зона разреженного распространения -ми0.6779976556574502\n",
      "Том 1, карта 8, ареал 3зона разреженного распространения -м'а0.39706002896253995\n",
      "Том 3, карта 8.1, ареал 1/∅чи/ – пéчи́, берéчи́0.26777568107286154\n",
      "Том 1, карта 5, ареал 1<К ~ Č> = <1 л. ед., 3 л. мн.> ~ <2, 3 л. ед., 1, 2 л. мн.> (например: пеку́, пеку́т ~ печ'о́ш...)0.24386701233775557\n",
      "Том 1, карта 8, ареал 5-ми0.22790498749835505\n",
      "\n",
      "24348\n",
      "Том 2, карта 9.3, ареал 1склонения на -*ā - Катери́но! - На́д'у! - Mapи́jе! и т.п.0.5388134556574924\n",
      "Том 3, карта 7.2, ареал 14ареал сплошного употребления о́той, о́цей0.3621034738025389\n",
      "Том 2, карта 8.1, ареал 17Р., Д., М. землѣ (рус. земле, укр. землi)0.3527941198485053\n",
      "Том 3, карта 7.2, ареал 8цей0.35019846520243453\n",
      "Том 2, карта 9.3, ареал 2склонения на -*о - Ива́не! Па́вле! - Васи́л'у! и т.п.0.3474910958738158\n",
      "\n",
      "20065\n",
      "Том 3, карта 7.1, ареал 5э́нтот0.3617349065666177\n",
      "Том 3, карта 6, ареал 11изоглосса расширенного <м’и>0.3052469357035338\n",
      "Том 3, карта 6, ареал 12изоглосса <им’и> после заднеязычных согласных0.2734470822317316\n",
      "Том 2, карта 8.1, ареал 3Р. беспредложный жены, коровы, Р. предложный, Д., М. женѣ, коровѣ (рус.)0.2039597665917399\n",
      "Том 2, карта 7.1, ареал 3флексия /т'/ (например, рус. диал. он м'е́л'ет', н'ес'е́т')0.14899479387147324\n",
      "\n",
      "16897\n",
      "Том 2, карта 8.1, ареал 14Р. землѣ, Д.-М. земли (укр.: зем[л'i], зем[ли], или полесск. зем[л'iе], зем[лi])0.8881458247026099\n",
      "Том 3, карта 7.1, ареал 7та́мтой0.4456402486808422\n",
      "Том 3, карта 4.1, ареал 4Переходное смягчение заднеязычных согласных перед окончанием счетной формы существительных а-склонения и о-склонения среднего рода, восходящим к окончанию nom.-acc. dualis: не зависит от места ударения у существительных а-склонения (укр.дв'í руц'í, дв'í д'íвц'i)0.4422095002320904\n",
      "Том 2, карта 6, ареал 2<Š ~ S'/S> = <1 л. ед.> ~ <2, 3 л. ед., 1, 2, 3 л. мн.>, например, рус. лит. плачу́ ~ пла́тишь..., пла́тят; вожу́ ~ во́зишь..., во́зят; ношу́ ~ но́сишь..., но́сят; (но только укр. диал. хо́джу́ ~ хо́диш...., хо́д'ат')0.4418840688670025\n",
      "Том 3, карта 5.1, ареал 1*-ě  в твердой разновидности а-склонения независимо от места ударения (укр. дв'í руц'í, дв'í д'íвц'i, бел. дз'в'é руцэ́, дз'в'é дз'éўцэ, рус. д'в'é рук'é, д'в'é д'éвк'Е);0.4246035968926253\n",
      "\n",
      "11863\n",
      "Том 1, карта 5, ареал 2<К ~ Č> = <1 л. ед., 1 л. мн., 3 л. мн.> ~ <2, 3 л. ед., 2 л. мн.> (например, пеку́, пеко́м, пеку́т ~ печ'о́ш...)0.6335454019664546\n",
      "Том 3, карта 7.2, ареал 5[jе́т]ый ([jе]ный) Волог. Вытегор.0.37285628622826306\n",
      "Том 3, карта 4.1, ареал 5Переходное смягчение заднеязычных согласных перед окончанием счетной формы существительных а-склонения и о-склонения среднего рода, восходящим к окончанию nom.-acc. dualis: только перед ударенными окончаниями счетной формы существительных а-склонения (укр. дв'í руц'í, дв'í д'iвк(')и, полесск., бел. дв'ié руц'ié, дв'ié д'iéвк'i, бел. д'з'в'é руцэ́, д'з'в'é д'з'éўк'i).0.30593971359357275\n",
      "Том 4, карта 6.5, ареал 3[k] — в формах типо пекóм, береуóм;0.3009572921523987\n",
      "Том 2, карта 8.1, ареал 18Р., Д., М. землѣ (полесск. земл'iе)0.27784730913642053\n",
      "\n",
      "39309\n",
      "Том 2, карта 8.1, ареал 5Р., Д., М. жены, коровы (рус.)0.6714900668943635\n",
      "Том 1, карта 8, ареал 4-м0.33646269575055077\n",
      "Том 3, карта 6, ареал 2ударная субстантивная флексия <ам>; безударная субстантивная флексия <ам>; адъективная флексия <ам>0.3092839461499873\n",
      "Том 3, карта 10, ареал 4/ст’/ – пл’ес’т’, гр’ес’т’, с’ес’т’0.22197034493896128\n",
      "Том 3, карта 7.2, ареал 1э́тот0.21607493280124007\n",
      "\n",
      "20271\n",
      "Том 3, карта 6, ареал 11изоглосса расширенного <м’и>0.3835139025683764\n",
      "Том 4, карта 5, ареал 3∅ (несу́)0.3385607281691476\n",
      "Том 2, карта 8.1, ареал 3Р. беспредложный жены, коровы, Р. предложный, Д., М. женѣ, коровѣ (рус.)0.3173302977059566\n",
      "Том 2, карта 8.1, ареал 16Р., Д., М. земли (рус. земли, укр. галицк. земли, бел. зямлi)0.2698870204534595\n",
      "Том 1, карта 5, ареал 7[к, г, ɣ, h] ~ [к’, к., г’, ɣ’, h’...] = <1 л. ед., 3 л. мн.> ~ <2, 3 л. ед., 1, 2 л. мн.>0.18650046333662154\n",
      "\n",
      "28228\n",
      "Том 3, карта 7.2, ареал 13зона, в отдельных говорах которой отмечено одно местоимение для указания на ближний и отдаленный предмет:   тот или э́тот0.35815466642568283\n",
      "Том 3, карта 3.1, ареал 4Нестяженные окончания без [j] (зона преимущественного распространения):   -[аа], -[yy] -[оо], -[ое], -[оа], -[ые], -[ие] и др.    (рус. молод[а́a] и т.п., но́в[аа] и т.п., молод[у́у] и т.п., но́в[уу] и т.п., молод[о́e], молод[о́o] или молод[о́a] и т.п., кра́сн[ое], кра́сн[оо] или кра́сн[оа] и т.п., молод[ы́е], глу[х'и́е] и т.п., но́в[ые], си́[н'ие] и т.п.).0.3459186549514111\n",
      "Том 3, карта 6, ареал 4ударная субстантивная флексия <áм’и>; безударная субстантивная флексия <има>; адъективная флексия <има>0.30671691733295764\n",
      "Том 3, карта 8.1, ареал 2/кчи/, /гчи/ – пекчи́, берекчи́/бераг(х)чы0.28633729985670675\n",
      "Том 2, карта 9.3, ареал 4склонение на -*ā:    унифицированные системы флексий - Катери́но! На́д'о! Мари́jо! и т.п.;    склонение на -*о:    утрата флексий старого зв. падежа и употребление им. падежа в вокативе - Ива́н! Па́вел! (и Па́вло!), Васи́ль! и т.п.;0.24185275174515022\n",
      "\n",
      "14666\n",
      "Том 3, карта 7.2, ареал 14ареал сплошного употребления о́той, о́цей0.3916704359625622\n",
      "Том 3, карта 7.2, ареал 10сей ([сей] и [с'ей])0.1968923076923077\n",
      "Том 3, карта 8.1, ареал 4/кти/, /гти/, – пекти́, беректи́; пекци́, бераг(х)ци́0.18650728047307177\n",
      "Том 2, карта 8.1, ареал 17Р., Д., М. землѣ (рус. земле, укр. землi)0.16591526501358303\n",
      "Том 2, карта 9.3, ареал 1склонения на -*ā - Катери́но! - На́д'у! - Mapи́jе! и т.п.0.16573569034632318\n",
      "\n",
      "15692\n",
      "Том 3, карта 7.2, ареал 5[jе́т]ый ([jе]ный) Волог. Вытегор.0.3511858407079646\n",
      "Том 3, карта 7.1, ареал 3тэй, тый0.3117655845449114\n",
      "Том 3, карта 12, ареал 1употребляются формы вин.-род. п. типа бел. кароў, валоў, укр. коней, корiў, гостей0.20055352377186914\n",
      "Том 2, карта 6, ареал 4наличие [дж] в форме 1 л. ед. наст. глагола ходить (укр. лит. ходити)0.16104264323927192\n",
      "Том 3, карта 6, ареал 6ударная субстантивная флексия <áми>; безударная субстантивная флексия <ами>; адъективная флексия <ими>0.13926330150068214\n",
      "\n",
      "17662\n",
      "Том 2, карта 8.1, ареал 4Р. (ударное окончание) жены, Р. (безударное окончание) коровѣ, Д., М. женѣ, коровѣ (рус.)0.2485450188291681\n",
      "Том 3, карта 6, ареал 12изоглосса <им’и> после заднеязычных согласных0.19045439686171953\n",
      "Том 1, карта 9, ареал 8усеченные новообразования с отпадением вокального и консонантного элементов (относящихся к окончанию и исходу основы):   русск. ма́! па́! де́! ба́! и др.; ба́буш! де́душ! и др. И́ль! (от Илья́), Ива́! (от Ива́н), Авдо́ть! (от Авдо́тья) и др.;    бел. и укр. (см. комментарий)0.1393233903237541\n",
      "Том 2, карта 9.3, ареал 6говоры, в которых в склонении на -*ā регулярно употребляются зв. формы с дифтонгическим удлинением флективного гласного:   Ма́шо́у! Ва́н'о́у! и т.п.; Ма́ша́й! Ва́н'е́й! и т.п.,    а также др. виды дифтонгического удлинения;0.1350604602782473\n",
      "Том 1, карта 8, ареал 2-м'а0.12314890196522976\n",
      "\n",
      "23923\n",
      "Том 1, карта 5, ареал 5<К> - во всех формах парадигмы (например, пеку́, пеко́ш...)0.8152539434910729\n",
      "Том 4, карта 6.5, ареал 3[k] — в формах типо пекóм, береуóм;0.28669377514383354\n",
      "Том 3, карта 8.1, ареал 2/кчи/, /гчи/ – пекчи́, берекчи́/бераг(х)чы0.2441681406721465\n",
      "Том 3, карта 3.1, ареал 4Нестяженные окончания без [j] (зона преимущественного распространения):   -[аа], -[yy] -[оо], -[ое], -[оа], -[ые], -[ие] и др.    (рус. молод[а́a] и т.п., но́в[аа] и т.п., молод[у́у] и т.п., но́в[уу] и т.п., молод[о́e], молод[о́o] или молод[о́a] и т.п., кра́сн[ое], кра́сн[оо] или кра́сн[оа] и т.п., молод[ы́е], глу[х'и́е] и т.п., но́в[ые], си́[н'ие] и т.п.).0.2374352118952133\n",
      "Том 3, карта 6, ареал 2ударная субстантивная флексия <ам>; безударная субстантивная флексия <ам>; адъективная флексия <ам>0.19790269784022854\n",
      "\n",
      "11459\n",
      "Том 2, карта 5, ареал 6<mn' ~ m'/m> = <1 л. ед., 3 л. мн.> ~ <2, 3 л. ед.. 1, 2 л. мн.> в глаголах с основой на /м/, например, укр. диал. кормн'у́, ко́рмн'ат' ~ ко́рмиш...0.29924077144602496\n",
      "Том 3, карта 7.2, ареал 11[с'ой]0.29310644209064074\n",
      "Том 2, карта 9.3, ареал 3говоры с утратой флексий зв.падежа:   а) склонение на -*ā:   редуцированные системы флексий: Катери́но! - На́д'у! Марус'у! (На́д'е! Maри́je!) и т.п.;   унифицированные системы флексий - Катери́но! На́д'о! Мари́jо! и т.п.;    б) склонение на -*o:    редуцированные системы флексий: Ива́не! Па́вле! - Васи́л' и т.п.0.2683720680008608\n",
      "Том 3, карта 4.1, ареал 3Переходное смягчение заднеязычных согласных перед окончанием счетной формы существительных а-склонения и о-склонения среднего рода, восходящим к окончанию nom.-acc. dualis: отмечено у существительных о-склонения среднего рода (укр. дв'í jáблуц'i, бел. д'з'в'é в'éц'e),0.19071633047067438\n",
      "Том 3, карта 5.1, ареал 3*-ě  в твердой разновидности о-склонения среднего рода с ударенными окончаниями (укр. дв'í в'iдрí, поллеск. дв'ié ведр'ié, бел. дз'в'é  в'адр'é);0.17554619251354298\n",
      "\n",
      "20773\n",
      "Том 3, карта 7.1, ареал 5э́нтот0.2693994376004285\n",
      "Том 3, карта 6, ареал 12изоглосса <им’и> после заднеязычных согласных0.24526829526366606\n",
      "Том 2, карта 8.1, ареал 13Р. с предлогом у: у женѣ, у коровѣ (у рукѣ, у землѣ) (рус.)0.22792994704377317\n",
      "Том 1, карта 8, ареал 5-ми0.13633104645885272\n",
      "Том 1, карта 5, ареал 3<К ~ К’> = <1 л. ед., 3 л. мн.> ~ <2, 3 л. ед., 1, 2 л. мн.> (например, пеку́, пеку́т ~ пек'о́ш...)0.1232590278195037\n",
      "\n",
      "7018\n",
      "Том 3, карта 6, ареал 7ударная субстантивная флексия <áма>; безударная субстантивная флексия <ама>; адъективная флексия <ими>0.32301316431009264\n",
      "Том 3, карта 7.2, ареал 4ге́той0.22992982327221956\n",
      "Том 3, карта 5.1, ареал 5*-i  в мягкой разновидности а-склонения под ударением (укр. дв'í земли́, поллеск. дв'ié земл'í, бел. дз'в'é з'амл'í, рус. дв'é з'амл'и́);0.22622711809492954\n",
      "Том 3, карта 4.1, ареал 5Переходное смягчение заднеязычных согласных перед окончанием счетной формы существительных а-склонения и о-склонения среднего рода, восходящим к окончанию nom.-acc. dualis: только перед ударенными окончаниями счетной формы существительных а-склонения (укр. дв'í руц'í, дв'í д'iвк(')и, полесск., бел. дв'ié руц'ié, дв'ié д'iéвк'i, бел. д'з'в'é руцэ́, д'з'в'é д'з'éўк'i).0.10179238673517048\n",
      "Том 3, карта 5.1, ареал 2*-ě  в твердой разновидности а-склонения с ударенными окончаниями, *-i в том же классе слов с безударными окончаниями (укр. дв'í руц'í, дв'í д'iвки, поллеск. дв'ié руц'ié, дв'ié д'iéвк'i, бел. д'з'в'é руцэ́, д'з'в'é д'з'éўк'i);0.09610841402944002\n",
      "\n"
     ]
    }
   ],
   "source": [
    "nth_clusters = clusters[n_clusters]\n",
    "nth_cluster_centers = cluster_centers[n_clusters]\n",
    "\n",
    "info = np.zeros((n_clusters, X.shape[-1]))\n",
    "\n",
    "for n in range(n_clusters):\n",
    "    wh = np.where(nth_clusters == n)\n",
    "    cluster_size = len(wh[0])\n",
    "    print(cluster_size)\n",
    "    cluster_size = np.full(X.shape[-1], cluster_size) # размеры кластера\n",
    "    intersection = X[wh].sum(axis=0) # размеры пересечений\n",
    "    areal_sizes = X.sum(axis=0) # размеры ареалов\n",
    "    union = areal_sizes + cluster_size - intersection # размеры объединений\n",
    "    total_size = np.full(X.shape[-1], X.shape[0]) # размеры всего\n",
    "\n",
    "    IoU = intersection / union\n",
    "    info[n] = IoU\n",
    "    \n",
    "    top = sorted(enumerate(IoU), reverse=True, key=lambda x: x[1])\n",
    "    for index, t in top[:5]:\n",
    "        print(features[index], areals_data[index], t, sep=\"\")\n",
    "    print()"
   ]
  },
  {
   "cell_type": "markdown",
   "id": "14d82af1-d79d-46ff-941d-7807efdbe3d3",
   "metadata": {},
   "source": [
    "Близость к набору признаков"
   ]
  },
  {
   "cell_type": "code",
   "execution_count": 55,
   "id": "f83c361d-4d2e-4054-810c-ba3c25fc49a6",
   "metadata": {},
   "outputs": [],
   "source": [
    "Bud_corp = np.array(list(\"01000001100010000010000100010100010001111101110000000000000001000001000000101010000000000000000100000000000101010011000000000000001101010010000011101001010111\")).astype(\"int\")"
   ]
  },
  {
   "cell_type": "code",
   "execution_count": 56,
   "id": "8f1ecc18-3702-493b-8765-eb2e5784c3ad",
   "metadata": {},
   "outputs": [],
   "source": [
    "Bud_cart = stck.reshape((984, 969, stck.shape[-1]))[590, 395]"
   ]
  },
  {
   "cell_type": "code",
   "execution_count": 146,
   "id": "d2e0d690-a859-486e-a0f6-d32a4a9c687e",
   "metadata": {},
   "outputs": [],
   "source": [
    "distances = np.array(list(map(lambda x: np.array([distance.euclidean(X[x], Bud_cart), \n",
    "                                                  distance.euclidean(X[x], Bud_corp)]), \n",
    "                              range(X.shape[0]))))"
   ]
  },
  {
   "cell_type": "code",
   "execution_count": 147,
   "id": "a05554dd-36fa-4280-bd34-9d61287f0398",
   "metadata": {},
   "outputs": [],
   "source": [
    "norm_distances = (distances - distances.min()) / (distances.max() - distances.min())"
   ]
  },
  {
   "cell_type": "code",
   "execution_count": 150,
   "id": "9bbe141e-e77f-44c1-941c-25344b628ef6",
   "metadata": {},
   "outputs": [
    {
     "name": "stdout",
     "output_type": "stream",
     "text": [
      "<class 'numpy.ndarray'>\n",
      "<class 'numpy.ndarray'>\n"
     ]
    }
   ],
   "source": [
    "for ind, comp in {0: \"dot\", 1: \"corp\"}.items():\n",
    "    cmap = color_palette(\"inferno_r\", as_cmap=True)\n",
    "    heat_rgb = cmap(norm_distances[:, ind]) * 255\n",
    "\n",
    "    new_image = np.zeros((stck.shape[0], 4))\n",
    "    new_image[positions] = heat_rgb\n",
    "    res = new_image.reshape((984, 969, 4))\n",
    "    res = Image.fromarray(res.astype(np.uint8))\n",
    "    res.save(f\"proximity_to_{comp}.png\")"
   ]
  },
  {
   "cell_type": "code",
   "execution_count": 163,
   "id": "f5b1ae17-4797-4b51-94db-8a1e8ab0eff6",
   "metadata": {},
   "outputs": [],
   "source": [
    "from scipy.stats import spearmanr, kendalltau, chi2_contingency"
   ]
  },
  {
   "cell_type": "code",
   "execution_count": 164,
   "id": "c68b11cb-e02f-49a4-b437-07b8417f8a0b",
   "metadata": {},
   "outputs": [
    {
     "data": {
      "text/plain": [
       "SignificanceResult(statistic=0.5166799166058599, pvalue=3.66653701036644e-12)"
      ]
     },
     "execution_count": 164,
     "metadata": {},
     "output_type": "execute_result"
    }
   ],
   "source": [
    "spearmanr(Bud_corp, Bud_cart)"
   ]
  },
  {
   "cell_type": "code",
   "execution_count": 165,
   "id": "2a418b3c-922d-472a-b775-18d4d5048442",
   "metadata": {
    "scrolled": true
   },
   "outputs": [
    {
     "data": {
      "text/plain": [
       "SignificanceResult(statistic=0.5166799166058598, pvalue=9.54540370004806e-11)"
      ]
     },
     "execution_count": 165,
     "metadata": {},
     "output_type": "execute_result"
    }
   ],
   "source": [
    "kendalltau(Bud_corp, Bud_cart)"
   ]
  },
  {
   "cell_type": "code",
   "execution_count": 153,
   "id": "eb423b70-2d57-455f-a7bf-9a5879f385d1",
   "metadata": {},
   "outputs": [],
   "source": [
    "contingency_table = pd.crosstab(Bud_cart, Bud_corp)"
   ]
  },
  {
   "cell_type": "code",
   "execution_count": 155,
   "id": "ca8dd9e4-816a-4dcd-a1b4-42054b84a928",
   "metadata": {},
   "outputs": [],
   "source": [
    "chi2, p, dof, expected = chi2_contingency(contingency_table)"
   ]
  },
  {
   "cell_type": "code",
   "execution_count": 161,
   "id": "c427f186-bee6-49fb-a45a-dfc597e14064",
   "metadata": {},
   "outputs": [
    {
     "data": {
      "text/plain": [
       "0.4988555876050462"
      ]
     },
     "execution_count": 161,
     "metadata": {},
     "output_type": "execute_result"
    }
   ],
   "source": [
    "np.sqrt(chi2 / Bud_cart.shape[0])"
   ]
  }
 ],
 "metadata": {
  "kernelspec": {
   "display_name": "Python 3 (ipykernel)",
   "language": "python",
   "name": "python3"
  },
  "language_info": {
   "codemirror_mode": {
    "name": "ipython",
    "version": 3
   },
   "file_extension": ".py",
   "mimetype": "text/x-python",
   "name": "python",
   "nbconvert_exporter": "python",
   "pygments_lexer": "ipython3",
   "version": "3.12.3"
  }
 },
 "nbformat": 4,
 "nbformat_minor": 5
}
